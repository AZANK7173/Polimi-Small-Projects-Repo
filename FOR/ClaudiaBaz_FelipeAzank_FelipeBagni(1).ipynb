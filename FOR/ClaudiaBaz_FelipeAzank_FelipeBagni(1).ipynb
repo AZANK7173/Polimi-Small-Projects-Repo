{
  "nbformat": 4,
  "nbformat_minor": 0,
  "metadata": {
    "colab": {
      "provenance": []
    },
    "kernelspec": {
      "name": "python3",
      "display_name": "Python 3"
    },
    "language_info": {
      "name": "python"
    }
  },
  "cells": [
    {
      "cell_type": "markdown",
      "source": [
        "## Biogas plant\n",
        "\n",
        "You want to plan the two-year supply of raw materials for a biogas power plant. Such a plant produces energy by burning biogas, which is obtained from the bacterial fermentation of organic wastes.\n",
        "Specifically, your plant is powered by corn chopping, a residual of agro-industrial operations that you can purchase from 5 local farms.\n",
        "The table below shows the quarterly capacity of each farm for the next two years. Quantities are measured in tons.\n",
        "\n",
        "Farm|T1|T2|T3|T4|T5|T6|T7|T8\n",
        ":-|:-:|:-:|:-:|:-:|:-:|:-:|:-:|:-:\n",
        "1|700|1500|700|0|0|700|1500|0\n",
        "2|1350|0|450|0|1350|0|450|0\n",
        "3|0|1500|1500|0|0|1500|1500|0\n",
        "4|820|1560|820|0|820|1560|820|0\n",
        "5|0|680|1080|0|0|680|1080|0\n",
        "\n",
        "Due to crop rotations and corn harvesting periods, farms are unable to supply material in some quarters. Moreover the types of corn chopping provided are different, each coming with its own unitary purchase price, unitary storage cost and percentage of dry matter. The table below shows a summary of these information.\n",
        "\n",
        "Farm|Purchase price|Storage cost|Dry matter\n",
        ":-|:-:|:-:|:-:\n",
        "1|0.20|0.002|15\n",
        "2|0.18|0.012|28\n",
        "3|0.19|0.007|35\n",
        "4|0.21|0.011|37\n",
        "5|0.23|0.015|42\n",
        "\n",
        "Your biogas plant must operate by burning a mixture of corn choppings with a dry matter percentage between 20% and 40%. Under these conditions, the yield is 421.6 kWh of energy per ton of burned material. The energy produced by the plant is sold on the market at a price of 0.28 $/kWh.\n",
        "\n",
        "Due to state regulations, all biogas plants can produce a maximum of 1950 MWh of energy per quarter. You are allowed to store corn chopping in a silo, whose total capacity is of 500 tons.\n",
        "\n",
        "Plan the supply and inventory of your biogas plant with the goal of maximizing your profits (i.e., revenues minus costs)."
      ],
      "metadata": {
        "id": "qeETASSHiVs8"
      }
    },
    {
      "cell_type": "code",
      "execution_count": null,
      "metadata": {
        "colab": {
          "base_uri": "https://localhost:8080/",
          "height": 434
        },
        "id": "zZxpChGgiStu",
        "outputId": "9671093e-32b8-499e-d767-6f3027f23c96"
      },
      "outputs": [
        {
          "output_type": "stream",
          "name": "stdout",
          "text": [
            "Looking in indexes: https://pypi.org/simple, https://us-python.pkg.dev/colab-wheels/public/simple/\n",
            "Collecting cffi==1.15.0\n",
            "  Downloading cffi-1.15.0-cp38-cp38-manylinux_2_12_x86_64.manylinux2010_x86_64.whl (446 kB)\n",
            "\u001b[K     |████████████████████████████████| 446 kB 13.8 MB/s \n",
            "\u001b[?25hRequirement already satisfied: pycparser in /usr/local/lib/python3.8/dist-packages (from cffi==1.15.0) (2.21)\n",
            "Installing collected packages: cffi\n",
            "  Attempting uninstall: cffi\n",
            "    Found existing installation: cffi 1.15.1\n",
            "    Uninstalling cffi-1.15.1:\n",
            "      Successfully uninstalled cffi-1.15.1\n",
            "Successfully installed cffi-1.15.0\n"
          ]
        },
        {
          "output_type": "display_data",
          "data": {
            "application/vnd.colab-display-data+json": {
              "pip_warning": {
                "packages": [
                  "cffi"
                ]
              }
            }
          },
          "metadata": {}
        },
        {
          "output_type": "stream",
          "name": "stdout",
          "text": [
            "Looking in indexes: https://pypi.org/simple, https://us-python.pkg.dev/colab-wheels/public/simple/\n",
            "Collecting mip\n",
            "  Downloading mip-1.14.1-py3-none-any.whl (15.3 MB)\n",
            "\u001b[K     |████████████████████████████████| 15.3 MB 4.3 MB/s \n",
            "\u001b[?25hRequirement already satisfied: cffi==1.15.0 in /usr/local/lib/python3.8/dist-packages (from mip) (1.15.0)\n",
            "Requirement already satisfied: pycparser in /usr/local/lib/python3.8/dist-packages (from cffi==1.15.0->mip) (2.21)\n",
            "Installing collected packages: mip\n",
            "Successfully installed mip-1.14.1\n"
          ]
        }
      ],
      "source": [
        "# When using Colab, make sure you run this instruction beforehand\n",
        "!pip install --upgrade cffi==1.15.0\n",
        "import importlib\n",
        "import cffi\n",
        "importlib.reload(cffi)\n",
        "!pip install mip"
      ]
    },
    {
      "cell_type": "markdown",
      "source": [
        "# Biogas Plant resolution\n",
        "\n",
        "\n",
        "In order to model de problem, it was defined the following sets, variables, constraints and objective function in order to make it simpler to apply what was described in class.\n",
        "\n",
        "----------------------\n",
        "## 1 - Sets\n",
        "\n",
        "Given the problem, two sets are definable to iterate over each quarter and for each farm.\n",
        "\n",
        "$F = \\{ 1,2,3,4,5 \\} → \\text{set of farms in the problem}$\n",
        "\n",
        "$Q = \\{ 1,2,3,4,5, 6, 7, 8 \\} → \\text{quarters comprehended in the problem}$\n",
        "\n",
        "----------------------\n",
        "## 2 - Variables\n",
        "\n",
        "In order to apply the constraints and iterate over the sets, there were two variables defined. Both of them were defined from 0 to 1 to show relative proportions.\n",
        "\n",
        "$x_{ij} → \\text{total production effectivelly used from farm i at a quarter j} $\n",
        "\n",
        "$s_{ij} → \\text{quantity that was bought from farm i at a quarter j, before consumption} $\n",
        "\n",
        "$silo_{i, j} → \\text{quantity stored in the silo, for each farm i in quarter j}$\n",
        "\n",
        "----------------------\n",
        "## 3 - Constraints\n",
        "\n",
        "There were 5 main points in the problem that created the constraint equations, they were:\n",
        "\n",
        "### 3.1 Maximum Material by Farm\n",
        "\n",
        "In order to ensure that it is not possible to buy more quantity than the one offered by each farm, a constraint is needed for the maximum purchase, given by, for each $i \\in F$ and $j \\in Q$:\n",
        "\n",
        "$$\n",
        "s_{ij} \\leqslant A_{ij}\n",
        "$$\n",
        "\n",
        "$A_{ij} → \\text{Quarterly capacity from farm i in quarter j}$\n",
        "\n",
        "### 3.2 Energy Produced by Quarter\n",
        "\n",
        "That generates 8 constraints (one for each of the quarters in j):\n",
        "\n",
        "$$ 421.6 \\sum_{i \\in F} x_{ij} \\leqslant 1950 × 10^3 $$\n",
        "\n",
        "\n",
        "\n",
        "### 3.3 Storage Limit\n",
        "\n",
        "This limit also generates 8 constraints (one for each of the 8 quarters established):\n",
        "\n",
        "$$ \\sum_{i \\in F} s_{ij}-x_{ij} + silo_{j+1} \\leqslant 500 $$\n",
        "\n",
        "$ silo_{j-1} \\rightarrow \\text{previous storage quantity in the silo (described in a clear way in the code)} $\n",
        "\n",
        "### 3.4 Dry Material\n",
        "\n",
        "Thia condition generates 16 equations (8 to guarantee the below 40% ration, and 8 more to guarantee the above 20%):\n",
        "\n",
        "For each $j \\in Q$:\n",
        "\n",
        "$$15x_{1j} + 28x_{2j} + 35x_{3j} + 37x_{4j} + 42x_{5j} \\leqslant 40\\sum_{i \\in F} x_{ij} $$\n",
        "\n",
        "$$15x_{1j} + 28x_{2j} + 35x_{3j} + 37x_{4j} + 42x_{5j} \\geqslant 20\\sum_{i \\in F} x_{ij} $$\n",
        "\n",
        "### 3.5 Storage constraint\n",
        "\n",
        "This last constraint refers to the fact that the storage of not used material in the silo for the next quarter is the remaining storage plus the difference between bought material and used material from the current quarter\n",
        "\n",
        "For each $i \\in F$ and $j \\in Q$:\n",
        "\n",
        "$$\n",
        "silo_{i, j+1} = silo_{ij} + (s_{ij} - x_{ij})  \n",
        "$$\n",
        "\n",
        "----------------------\n",
        "## 4 Objective Function\n",
        "\n",
        "At last. the objective function can be described as the attempt to maximize the profit from the sum of all quarters:\n",
        "\n",
        "$$\n",
        "\\text{Objective Function → max (R - C)}\n",
        "$$\n",
        "\n",
        "$$\n",
        "R = 0.28 \\times 421.6 \\times \\sum_{j \\in Q}\\sum_{i \\in F}x_{ij}\n",
        "$$\n",
        "\n",
        "$$\n",
        "C = \\sum_{j \\in Q} (\\sum_{i \\in F} \\alpha_i \\cdot s_{ij} + \\sum_{i \\in F} \\beta_i (silo_{i, j+1}))\n",
        "$$\n",
        "\n",
        "\n",
        "$\\alpha_i → \\text{purchase cost from farm i} $\n",
        "\n",
        "$\\beta_i → \\text{storage cost from farm i} $"
      ],
      "metadata": {
        "id": "EhG8V_YwiakW"
      }
    },
    {
      "cell_type": "code",
      "source": [
        "##################################### CONSTANT DECLARATION\n",
        "\n",
        "import mip\n",
        "\n",
        "m = mip.Model()\n",
        "\n",
        "A = [\n",
        "    [ 700, 1500,  700, 0,    0,  700, 1500,  0],\n",
        "    [1350,    0,  450, 0, 1350,    0,  450,  0],\n",
        "    [   0, 1500, 1500, 0,\t   0,\t1500,\t1500,\t 0],\n",
        "    [ 820, 1560,\t820, 0,\t 820,\t1560,\t 820,\t 0],\n",
        "    [   0,\t680, 1080, 0,\t   0,  680,\t1080,\t 0]\n",
        "    ]\n",
        "\n",
        "n_farm = len(A)     #len of set F\n",
        "n_quart = len(A[0]) #len of set Q\n",
        "\n",
        "c = [\n",
        "    [ 0.20,  0.18,  0.19,  0.21,   0.23], #Purchase price\n",
        "    [0.002, 0.012, 0.007, 0.011, 0.0155], #storage price\n",
        "    [ 0.15,  0.28,  0.35,  0.37,   0.42]  #Dry matter percentage\n",
        "]\n",
        "\n",
        "pp = c[0] #Purchase price\n",
        "sp = c[1] #storage price\n",
        "dmp = c[2] #Dry matter percentage\n",
        "\n",
        "max_epq = 1950000 # max kWh produced per quarter\n",
        "max_tpq = 500 # max ton stored per quarter\n",
        "max_dmp = 0.4 # max dry matter percentage\n",
        "min_dmp = 0.2 # min dry matter percentage\n",
        "\n",
        "kWh_per_ton = 421.6 #kWh/ton\n",
        "price_per_kWh = 0.28 #$/kWh\n",
        "price_per_ton = kWh_per_ton * price_per_kWh #$/ton"
      ],
      "metadata": {
        "id": "dgIWALmtifGe"
      },
      "execution_count": null,
      "outputs": []
    },
    {
      "cell_type": "code",
      "source": [
        "##################################### VARIABLE DECLARATION\n",
        "\n",
        "# create var to store the quantity of tons inside the silo\n",
        "silo = [[m.add_var(var_type=mip.INTEGER) for j in range(n_farm)] for i in range(n_quart)]\n",
        "silo.insert(0, [0. for _ in range(n_farm)])\n",
        "\n",
        "# each link represents the weight produce in each farm each quarter = link\n",
        "x = [[m.add_var(var_type=mip.INTEGER) for i in range(n_quart)] for j in range(n_farm)] # quantity burned\n",
        "s = [[m.add_var(var_type=mip.INTEGER) for i in range(n_quart)] for j in range(n_farm)] # quantity bought"
      ],
      "metadata": {
        "id": "lwOk8OyMinQS"
      },
      "execution_count": null,
      "outputs": []
    },
    {
      "cell_type": "code",
      "source": [
        "##################################### CONSTRAINT ITERATION\n",
        "\n",
        "for q in range(n_quart):\n",
        "\n",
        "    # The maximum space inside the silo is 500 tons.\n",
        "    m.add_constr(mip.xsum(silo[q+1]) <= max_tpq)\n",
        "\n",
        "    # Between 20% e 40% of dry matter\n",
        "    total_dmp = mip.xsum(x[f][q] * dmp[f] for f in range(n_farm))\n",
        "    x_total = mip.xsum(x[f][q] for f in range(n_farm))\n",
        "    m.add_constr(total_dmp <= max_dmp*x_total)\n",
        "    m.add_constr(total_dmp >= min_dmp*x_total)\n",
        "\n",
        "    # Energy production limit\n",
        "    m.add_constr(mip.xsum(x[f][q] for f in range(n_farm))*kWh_per_ton <= max_epq)\n",
        "\n",
        "for f in range(n_farm):\n",
        "  for q in range(n_quart):\n",
        "    # Just buy what is available\n",
        "    m.add_constr(s[f][q] <= A[f][q])\n",
        "    # Stores into the silo material not used.\n",
        "    m.add_constr((silo[q+1][f]) == silo[q][f] + (s[f][q] - x[f][q]))"
      ],
      "metadata": {
        "id": "MFtZEx6OioTg"
      },
      "execution_count": null,
      "outputs": []
    },
    {
      "cell_type": "code",
      "source": [
        "##################################### OBJECTIVE FUNCTION\n",
        "\n",
        "m.objective = mip.maximize(mip.xsum(x[f][q] for f in range(n_farm) for q in range(n_quart)) * price_per_ton - mip.xsum(s[f][q]*pp[f] for f in range(n_farm) for q in range(n_quart)) - mip.xsum(silo[q+1][f]*sp[f] for f in range(n_farm) for q in range(n_quart)))\n",
        "\n",
        "m.optimize()\n",
        "\n",
        "print(\"Maximum revenue:\", m.objective_value)"
      ],
      "metadata": {
        "colab": {
          "base_uri": "https://localhost:8080/"
        },
        "id": "-Yog6Mtyiqdq",
        "outputId": "83b1246c-ccc0-4604-9c91-18fc4c70a86d"
      },
      "execution_count": null,
      "outputs": [
        {
          "output_type": "stream",
          "name": "stdout",
          "text": [
            "profit 2861318.0329999994\n"
          ]
        }
      ]
    },
    {
      "cell_type": "code",
      "source": [
        "##################################### VISUALIZATION OF RESULTS\n",
        "\n",
        "print(\"limit per quarter {0} kWh ; {1} tons in stock ; {2}% to {3}% of dry matter \\n\".format(max_epq,max_tpq,min_dmp*100,max_dmp*100))\n",
        "\n",
        "for q in range(n_quart):\n",
        "  xx = sum(x[f][q].x for f in range(n_farm))\n",
        "  ss = sum(s[f][q].x for f in range(n_farm))\n",
        "  ssilo = sum(silo[q+1][f].x for f in range(n_farm))\n",
        "\n",
        "  dm = sum(x[f][q].x*dmp[f] for f in range(n_farm))\n",
        "  dm_tot = sum(x[f][q].x for f in range(n_farm))\n",
        "  dm_per= 0\n",
        "  if dm_tot>0:\n",
        "    dm_per = dm*100/dm_tot\n",
        "  print(\"QUARTER {0}    produced: {1:4.2f} ton    stocked: {2:.2f}   bought:{3:.2f} ton   dry matter: {4:.2f}%\".format(q, xx, ssilo, ss, dm_per))\n",
        "  print(\"                       {0:4.2f} MWh \".format( xx*kWh_per_ton/1e3 ))\n",
        "  print(\"                       {0:4.2f}$\\n\".format(xx*price_per_ton))"
      ],
      "metadata": {
        "colab": {
          "base_uri": "https://localhost:8080/"
        },
        "id": "-VgSbdYekXH_",
        "outputId": "1a3afc0b-86b3-41da-f139-6bce33ef50d5"
      },
      "execution_count": null,
      "outputs": [
        {
          "output_type": "stream",
          "name": "stdout",
          "text": [
            "limit per quarter 1950000 kWh ; 500 tons in stock ; 20.0% to 40.0% of dry matter \n",
            "\n",
            "QUARTER 0    produced: 2870.00 ton    stocked: 0.00   bought:2870.00 ton   dry matter: 27.40%\n",
            "                       1209.99 MWh \n",
            "                       338797.76$\n",
            "\n",
            "QUARTER 1    produced: 4625.00 ton    stocked: 500.00   bought:5125.00 ton   dry matter: 32.21%\n",
            "                       1949.90 MWh \n",
            "                       545972.00$\n",
            "\n",
            "QUARTER 2    produced: 4625.00 ton    stocked: 425.00   bought:4550.00 ton   dry matter: 32.50%\n",
            "                       1949.90 MWh \n",
            "                       545972.00$\n",
            "\n",
            "QUARTER 3    produced: 424.00 ton    stocked: 1.00   bought:0.00 ton   dry matter: 20.00%\n",
            "                       178.76 MWh \n",
            "                       50052.35$\n",
            "\n",
            "QUARTER 4    produced: 2171.00 ton    stocked: 0.00   bought:2170.00 ton   dry matter: 31.39%\n",
            "                       915.29 MWh \n",
            "                       256282.21$\n",
            "\n",
            "QUARTER 5    produced: 4440.00 ton    stocked: 0.00   bought:4440.00 ton   dry matter: 33.62%\n",
            "                       1871.90 MWh \n",
            "                       524133.12$\n",
            "\n",
            "QUARTER 6    produced: 4625.00 ton    stocked: 500.00   bought:5125.00 ton   dry matter: 31.10%\n",
            "                       1949.90 MWh \n",
            "                       545972.00$\n",
            "\n",
            "QUARTER 7    produced: 500.00 ton    stocked: 0.00   bought:0.00 ton   dry matter: 20.00%\n",
            "                       210.80 MWh \n",
            "                       59024.00$\n",
            "\n"
          ]
        }
      ]
    }
  ]
}